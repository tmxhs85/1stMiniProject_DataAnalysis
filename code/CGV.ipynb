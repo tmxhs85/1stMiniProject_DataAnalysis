{
 "cells": [
  {
   "cell_type": "code",
   "execution_count": 1,
   "id": "fa387d22",
   "metadata": {},
   "outputs": [],
   "source": [
    "import pandas as pd\n",
    "import numpy as np\n",
    "from urllib import request\n",
    "from bs4 import BeautifulSoup"
   ]
  },
  {
   "cell_type": "code",
   "execution_count": 2,
   "id": "c51083c0",
   "metadata": {},
   "outputs": [],
   "source": [
    "import selenium\n",
    "from selenium import webdriver\n",
    "from selenium.webdriver.common.by import By"
   ]
  },
  {
   "cell_type": "code",
   "execution_count": 3,
   "id": "1e21da02",
   "metadata": {},
   "outputs": [],
   "source": [
    "import math"
   ]
  },
  {
   "cell_type": "code",
   "execution_count": 4,
   "id": "27d0d25a",
   "metadata": {},
   "outputs": [],
   "source": [
    "driver = webdriver.Chrome('chromedriver')"
   ]
  },
  {
   "cell_type": "code",
   "execution_count": 5,
   "id": "d7d2887a",
   "metadata": {},
   "outputs": [],
   "source": [
    "url = 'http://www.cgv.co.kr/movies/?lt=1&ft=1'\n",
    "driver.get(url)"
   ]
  },
  {
   "cell_type": "code",
   "execution_count": 6,
   "id": "938e137f",
   "metadata": {},
   "outputs": [],
   "source": [
    "html = driver.page_source\n",
    "soup = BeautifulSoup(html, 'html.parser')"
   ]
  },
  {
   "cell_type": "code",
   "execution_count": 7,
   "id": "a42d0b93",
   "metadata": {
    "scrolled": true
   },
   "outputs": [],
   "source": [
    "movie = soup.select('#contents > div.wrap-movie-chart > div.sect-movie-chart')"
   ]
  },
  {
   "cell_type": "code",
   "execution_count": 13,
   "id": "26e6b9f6",
   "metadata": {
    "scrolled": true
   },
   "outputs": [
    {
     "data": {
      "text/plain": [
       "[<strong class=\"title\">아바타 리마스터링</strong>,\n",
       " <strong class=\"title\">정직한 후보2</strong>,\n",
       " <strong class=\"title\">인생은 아름다워</strong>,\n",
       " <strong class=\"title\">공조2-인터내셔날</strong>,\n",
       " <strong class=\"title\">극장판 헬로카봇-수상한 마술단의 비밀</strong>,\n",
       " <strong class=\"title\">극장판 짱구는 못말려-수수께끼! 꽃피는 천하떡잎학교</strong>,\n",
       " <strong class=\"title\">늑대사냥</strong>,\n",
       " <strong class=\"title\">성덕</strong>,\n",
       " <strong class=\"title\">극장판 5등분의 신부</strong>,\n",
       " <strong class=\"title\">물방울을 그리는 남자</strong>,\n",
       " <strong class=\"title\">시맨틱 에러-더 무비</strong>,\n",
       " <strong class=\"title\">ZARD - What a beautiful moment tour</strong>,\n",
       " <strong class=\"title\">프린세스 아야</strong>,\n",
       " <strong class=\"title\">귀멸의 칼날-장구저택 편</strong>,\n",
       " <strong class=\"title\">귀멸의 칼날-주합회의·나비저택 편</strong>,\n",
       " <strong class=\"title\">육사오</strong>,\n",
       " <strong class=\"title\">지금, 이대로가 좋아요</strong>,\n",
       " <strong class=\"title\">귀멸의 칼날-나타구모산 편</strong>,\n",
       " <strong class=\"title\">이진혁 : 애프터 사이트</strong>]"
      ]
     },
     "execution_count": 13,
     "metadata": {},
     "output_type": "execute_result"
    }
   ],
   "source": [
    "m = movie[0].select('.title')\n",
    "m"
   ]
  },
  {
   "cell_type": "code",
   "execution_count": 12,
   "id": "d844c105",
   "metadata": {},
   "outputs": [],
   "source": [
    "movie_list=[]"
   ]
  },
  {
   "cell_type": "code",
   "execution_count": 15,
   "id": "bc84f9a5",
   "metadata": {},
   "outputs": [],
   "source": [
    "for i in range(0,len(m)):\n",
    "    movie_list.append(m[i].text)"
   ]
  },
  {
   "cell_type": "code",
   "execution_count": 16,
   "id": "1b15f56b",
   "metadata": {},
   "outputs": [
    {
     "data": {
      "text/plain": [
       "['아바타 리마스터링',\n",
       " '정직한 후보2',\n",
       " '인생은 아름다워',\n",
       " '공조2-인터내셔날',\n",
       " '극장판 헬로카봇-수상한 마술단의 비밀',\n",
       " '극장판 짱구는 못말려-수수께끼! 꽃피는 천하떡잎학교',\n",
       " '늑대사냥',\n",
       " '성덕',\n",
       " '극장판 5등분의 신부',\n",
       " '물방울을 그리는 남자',\n",
       " '시맨틱 에러-더 무비',\n",
       " 'ZARD - What a beautiful moment tour',\n",
       " '프린세스 아야',\n",
       " '귀멸의 칼날-장구저택 편',\n",
       " '귀멸의 칼날-주합회의·나비저택 편',\n",
       " '육사오',\n",
       " '지금, 이대로가 좋아요',\n",
       " '귀멸의 칼날-나타구모산 편',\n",
       " '이진혁 : 애프터 사이트']"
      ]
     },
     "execution_count": 16,
     "metadata": {},
     "output_type": "execute_result"
    }
   ],
   "source": [
    "movie_list"
   ]
  },
  {
   "cell_type": "code",
   "execution_count": 24,
   "id": "0530b41c",
   "metadata": {},
   "outputs": [
    {
     "data": {
      "text/plain": [
       "[<a href=\"#contents\" id=\"skipHeader\">메인 컨텐츠 바로가기</a>,\n",
       " <a href=\"http://www.cgv.co.kr/culture-event/event/detailViewUnited.aspx?seq=31426&amp;menu=006\">\n",
       " <img alt=\"현대M포인트\" src=\"https://img.cgv.co.kr/WingBanner/2022/0303/16462658373950.png\"/>\n",
       " </a>,\n",
       " <a href=\"/movies/detail-view/?midx=86217\">\n",
       " <span class=\"thumb-image\">\n",
       " <img alt=\"아바타 리마스터링 포스터\" onerror=\"errorImage(this)\" src=\"https://img.cgv.co.kr/Movie/Thumbnail/Poster/000086/86217/86217_320.jpg\"/>\n",
       " <!-- 영상물 등급 노출 변경 2022.08.24 -->\n",
       " <i class=\"cgvIcon etc age12\">12</i>\n",
       " <!-- <span class=\"ico-grade 12\">12</span> -->\n",
       " </span>\n",
       " </a>,\n",
       " <a href=\"/movies/detail-view/?midx=86217\">\n",
       " <strong class=\"title\">아바타 리마스터링</strong>\n",
       " </a>,\n",
       " <a href=\"/movies/detail-view/?midx=86191\">\n",
       " <span class=\"thumb-image\">\n",
       " <img alt=\"정직한 후보2 포스터\" onerror=\"errorImage(this)\" src=\"https://img.cgv.co.kr/Movie/Thumbnail/Poster/000086/86191/86191_320.jpg\"/>\n",
       " <!-- 영상물 등급 노출 변경 2022.08.24 -->\n",
       " <i class=\"cgvIcon etc age12\">12</i>\n",
       " <!-- <span class=\"ico-grade 12\">12</span> -->\n",
       " </span>\n",
       " </a>,\n",
       " <a href=\"/movies/detail-view/?midx=86191\">\n",
       " <strong class=\"title\">정직한 후보2</strong>\n",
       " </a>,\n",
       " <a href=\"/movies/detail-view/?midx=83821\">\n",
       " <span class=\"thumb-image\">\n",
       " <img alt=\"인생은 아름다워 포스터\" onerror=\"errorImage(this)\" src=\"https://img.cgv.co.kr/Movie/Thumbnail/Poster/000083/83821/83821_320.jpg\"/>\n",
       " <!-- 영상물 등급 노출 변경 2022.08.24 -->\n",
       " <i class=\"cgvIcon etc age12\">12</i>\n",
       " <!-- <span class=\"ico-grade 12\">12</span> -->\n",
       " </span>\n",
       " </a>,\n",
       " <a href=\"/movies/detail-view/?midx=83821\">\n",
       " <strong class=\"title\">인생은 아름다워</strong>\n",
       " </a>,\n",
       " <a href=\"/movies/detail-view/?midx=86155\">\n",
       " <span class=\"thumb-image\">\n",
       " <img alt=\"공조2-인터내셔날 포스터\" onerror=\"errorImage(this)\" src=\"https://img.cgv.co.kr/Movie/Thumbnail/Poster/000086/86155/86155_320.jpg\"/>\n",
       " <!-- 영상물 등급 노출 변경 2022.08.24 -->\n",
       " <i class=\"cgvIcon etc age15\">15</i>\n",
       " <!-- <span class=\"ico-grade 15\">15</span> -->\n",
       " </span>\n",
       " </a>,\n",
       " <a href=\"/movies/detail-view/?midx=86155\">\n",
       " <strong class=\"title\">공조2-인터내셔날</strong>\n",
       " </a>,\n",
       " <a href=\"/movies/detail-view/?midx=86265\">\n",
       " <span class=\"thumb-image\">\n",
       " <img alt=\"극장판 헬로카봇-수상한 마술단의 비밀 포스터\" onerror=\"errorImage(this)\" src=\"https://img.cgv.co.kr/Movie/Thumbnail/Poster/000086/86265/86265_320.jpg\"/>\n",
       " <!-- 영상물 등급 노출 변경 2022.08.24 -->\n",
       " <i class=\"cgvIcon etc ageAll\">All</i>\n",
       " <!-- <span class=\"ico-grade All\">All</span> -->\n",
       " </span>\n",
       " </a>,\n",
       " <a href=\"/movies/detail-view/?midx=86265\">\n",
       " <strong class=\"title\">극장판 헬로카봇-수상한 마술단의 비밀</strong>\n",
       " </a>,\n",
       " <a href=\"/movies/detail-view/?midx=86194\">\n",
       " <span class=\"thumb-image\">\n",
       " <img alt=\"극장판 짱구는 못말려-수수께끼! 꽃피는 천하떡잎학교 포스터\" onerror=\"errorImage(this)\" src=\"https://img.cgv.co.kr/Movie/Thumbnail/Poster/000086/86194/86194_320.jpg\"/>\n",
       " <!-- 영상물 등급 노출 변경 2022.08.24 -->\n",
       " <i class=\"cgvIcon etc ageAll\">All</i>\n",
       " <!-- <span class=\"ico-grade All\">All</span> -->\n",
       " </span>\n",
       " </a>,\n",
       " <a href=\"/movies/detail-view/?midx=86194\">\n",
       " <strong class=\"title\">극장판 짱구는 못말려-수수께끼! 꽃피는 천하떡잎학교</strong>\n",
       " </a>,\n",
       " <a href=\"/movies/detail-view/?midx=86154\">\n",
       " <span class=\"thumb-image\">\n",
       " <img alt=\"늑대사냥 포스터\" onerror=\"errorImage(this)\" src=\"https://img.cgv.co.kr/Movie/Thumbnail/Poster/000086/86154/86154_320.jpg\"/>\n",
       " <!-- 영상물 등급 노출 변경 2022.08.24 -->\n",
       " <i class=\"cgvIcon etc age18\">18</i>\n",
       " <!-- <span class=\"ico-grade 18\">18</span> -->\n",
       " </span>\n",
       " </a>,\n",
       " <a href=\"/movies/detail-view/?midx=86154\">\n",
       " <strong class=\"title\">늑대사냥</strong>\n",
       " </a>,\n",
       " <a href=\"/movies/detail-view/?midx=86224\">\n",
       " <span class=\"thumb-image\">\n",
       " <img alt=\"성덕 포스터\" onerror=\"errorImage(this)\" src=\"https://img.cgv.co.kr/Movie/Thumbnail/Poster/000086/86224/86224_320.jpg\"/>\n",
       " <!-- 영상물 등급 노출 변경 2022.08.24 -->\n",
       " <i class=\"cgvIcon etc age12\">12</i>\n",
       " <!--<span class=\"ico-grade 12\">12</span> -->\n",
       " </span>\n",
       " </a>,\n",
       " <a href=\"/movies/detail-view/?midx=86224\">\n",
       " <strong class=\"title\">성덕</strong>\n",
       " </a>,\n",
       " <a href=\"/movies/detail-view/?midx=86201\">\n",
       " <span class=\"thumb-image\">\n",
       " <img alt=\"극장판 5등분의 신부 포스터\" onerror=\"errorImage(this)\" src=\"https://img.cgv.co.kr/Movie/Thumbnail/Poster/000086/86201/86201_320.jpg\"/>\n",
       " <!-- 영상물 등급 노출 변경 2022.08.24 -->\n",
       " <i class=\"cgvIcon etc age12\">12</i>\n",
       " <!--<span class=\"ico-grade 12\">12</span> -->\n",
       " </span>\n",
       " </a>,\n",
       " <a href=\"/movies/detail-view/?midx=86201\">\n",
       " <strong class=\"title\">극장판 5등분의 신부</strong>\n",
       " </a>,\n",
       " <a href=\"/movies/detail-view/?midx=86200\">\n",
       " <span class=\"thumb-image\">\n",
       " <img alt=\"물방울을 그리는 남자 포스터\" onerror=\"errorImage(this)\" src=\"https://img.cgv.co.kr/Movie/Thumbnail/Poster/000086/86200/86200_320.jpg\"/>\n",
       " <!-- 영상물 등급 노출 변경 2022.08.24 -->\n",
       " <i class=\"cgvIcon etc ageAll\">All</i>\n",
       " <!--<span class=\"ico-grade All\">All</span> -->\n",
       " </span>\n",
       " </a>,\n",
       " <a href=\"/movies/detail-view/?midx=86200\">\n",
       " <strong class=\"title\">물방울을 그리는 남자</strong>\n",
       " </a>,\n",
       " <a href=\"/movies/detail-view/?midx=86081\">\n",
       " <span class=\"thumb-image\">\n",
       " <img alt=\"시맨틱 에러-더 무비 포스터\" onerror=\"errorImage(this)\" src=\"https://img.cgv.co.kr/Movie/Thumbnail/Poster/000086/86081/86081_320.jpg\"/>\n",
       " <!-- 영상물 등급 노출 변경 2022.08.24 -->\n",
       " <i class=\"cgvIcon etc age12\">12</i>\n",
       " <!--<span class=\"ico-grade 12\">12</span> -->\n",
       " </span>\n",
       " </a>,\n",
       " <a href=\"/movies/detail-view/?midx=86081\">\n",
       " <strong class=\"title\">시맨틱 에러-더 무비</strong>\n",
       " </a>,\n",
       " <a href=\"/movies/detail-view/?midx=86257\">\n",
       " <span class=\"thumb-image\">\n",
       " <img alt=\"ZARD - What a beautiful moment tour 포스터\" onerror=\"errorImage(this)\" src=\"https://img.cgv.co.kr/Movie/Thumbnail/Poster/000086/86257/86257_320.jpg\"/>\n",
       " <!-- 영상물 등급 노출 변경 2022.08.24 -->\n",
       " <i class=\"cgvIcon etc ageAll\">All</i>\n",
       " <!--<span class=\"ico-grade All\">All</span> -->\n",
       " </span>\n",
       " </a>,\n",
       " <a href=\"/movies/detail-view/?midx=86257\">\n",
       " <strong class=\"title\">ZARD - What a beautiful moment tour</strong>\n",
       " </a>,\n",
       " <a href=\"/movies/detail-view/?midx=86188\">\n",
       " <span class=\"thumb-image\">\n",
       " <img alt=\"프린세스 아야 포스터\" onerror=\"errorImage(this)\" src=\"https://img.cgv.co.kr/Movie/Thumbnail/Poster/000086/86188/86188_320.jpg\"/>\n",
       " <!-- 영상물 등급 노출 변경 2022.08.24 -->\n",
       " <i class=\"cgvIcon etc ageAll\">All</i>\n",
       " <!--<span class=\"ico-grade All\">All</span> -->\n",
       " </span>\n",
       " </a>,\n",
       " <a href=\"/movies/detail-view/?midx=86188\">\n",
       " <strong class=\"title\">프린세스 아야</strong>\n",
       " </a>,\n",
       " <a href=\"/movies/detail-view/?midx=86065\">\n",
       " <span class=\"thumb-image\">\n",
       " <img alt=\"귀멸의 칼날-장구저택 편 포스터\" onerror=\"errorImage(this)\" src=\"https://img.cgv.co.kr/Movie/Thumbnail/Poster/000086/86065/86065_320.jpg\"/>\n",
       " <!-- 영상물 등급 노출 변경 2022.08.24 -->\n",
       " <i class=\"cgvIcon etc age15\">15</i>\n",
       " <!--<span class=\"ico-grade 15\">15</span> -->\n",
       " </span>\n",
       " </a>,\n",
       " <a href=\"/movies/detail-view/?midx=86065\">\n",
       " <strong class=\"title\">귀멸의 칼날-장구저택 편</strong>\n",
       " </a>,\n",
       " <a href=\"/movies/detail-view/?midx=86080\">\n",
       " <span class=\"thumb-image\">\n",
       " <img alt=\"귀멸의 칼날-주합회의·나비저택 편 포스터\" onerror=\"errorImage(this)\" src=\"https://img.cgv.co.kr/Movie/Thumbnail/Poster/000086/86080/86080_320.jpg\"/>\n",
       " <!-- 영상물 등급 노출 변경 2022.08.24 -->\n",
       " <i class=\"cgvIcon etc age15\">15</i>\n",
       " <!--<span class=\"ico-grade 15\">15</span> -->\n",
       " </span>\n",
       " </a>,\n",
       " <a href=\"/movies/detail-view/?midx=86080\">\n",
       " <strong class=\"title\">귀멸의 칼날-주합회의·나비저택 편</strong>\n",
       " </a>,\n",
       " <a href=\"/movies/detail-view/?midx=86059\">\n",
       " <span class=\"thumb-image\">\n",
       " <img alt=\"육사오 포스터\" onerror=\"errorImage(this)\" src=\"https://img.cgv.co.kr/Movie/Thumbnail/Poster/000086/86059/86059_320.jpg\"/>\n",
       " <!-- 영상물 등급 노출 변경 2022.08.24 -->\n",
       " <i class=\"cgvIcon etc age12\">12</i>\n",
       " <!--<span class=\"ico-grade 12\">12</span> -->\n",
       " </span>\n",
       " </a>,\n",
       " <a href=\"/movies/detail-view/?midx=86059\">\n",
       " <strong class=\"title\">육사오</strong>\n",
       " </a>,\n",
       " <a href=\"/movies/detail-view/?midx=86259\">\n",
       " <span class=\"thumb-image\">\n",
       " <img alt=\"지금, 이대로가 좋아요 포스터\" onerror=\"errorImage(this)\" src=\"https://img.cgv.co.kr/Movie/Thumbnail/Poster/000086/86259/86259_320.jpg\"/>\n",
       " <!-- 영상물 등급 노출 변경 2022.08.24 -->\n",
       " <i class=\"cgvIcon etc age15\">15</i>\n",
       " <!--<span class=\"ico-grade 15\">15</span> -->\n",
       " </span>\n",
       " </a>,\n",
       " <a href=\"/movies/detail-view/?midx=86259\">\n",
       " <strong class=\"title\">지금, 이대로가 좋아요</strong>\n",
       " </a>,\n",
       " <a href=\"/movies/detail-view/?midx=86079\">\n",
       " <span class=\"thumb-image\">\n",
       " <img alt=\"귀멸의 칼날-나타구모산 편 포스터\" onerror=\"errorImage(this)\" src=\"https://img.cgv.co.kr/Movie/Thumbnail/Poster/000086/86079/86079_320.jpg\"/>\n",
       " <!-- 영상물 등급 노출 변경 2022.08.24 -->\n",
       " <i class=\"cgvIcon etc age15\">15</i>\n",
       " <!--<span class=\"ico-grade 15\">15</span> -->\n",
       " </span>\n",
       " </a>,\n",
       " <a href=\"/movies/detail-view/?midx=86079\">\n",
       " <strong class=\"title\">귀멸의 칼날-나타구모산 편</strong>\n",
       " </a>,\n",
       " <a href=\"/movies/detail-view/?midx=86264\">\n",
       " <span class=\"thumb-image\">\n",
       " <img alt=\"이진혁 : 애프터 사이트 포스터\" onerror=\"errorImage(this)\" src=\"https://img.cgv.co.kr/Movie/Thumbnail/Poster/000086/86264/86264_320.jpg\"/>\n",
       " <!-- 영상물 등급 노출 변경 2022.08.24 -->\n",
       " <i class=\"cgvIcon etc ageAll\">All</i>\n",
       " <!--<span class=\"ico-grade All\">All</span> -->\n",
       " </span>\n",
       " </a>,\n",
       " <a href=\"/movies/detail-view/?midx=86264\">\n",
       " <strong class=\"title\">이진혁 : 애프터 사이트</strong>\n",
       " </a>,\n",
       " <a class=\"btn\" href=\"https://itunes.apple.com/kr/app/id370441190?mt=8\" target=\"_blank\"><img alt=\"Ios down\" src=\"https://img.cgv.co.kr/images/popup/1606_iexp/btn_down_ios.jpg\"/></a>,\n",
       " <a class=\"btn\" href=\"https://play.google.com/store/apps/details?id=com.cgv.android.movieapp\" target=\"_blank\"><img alt=\"Android down\" src=\"https://img.cgv.co.kr/images/popup/1606_iexp/btn_down_android.jpg\"/></a>,\n",
       " <a class=\"btn_close\">닫기</a>,\n",
       " <a class=\"btn\" href=\"https://itunes.apple.com/kr/app/id370441190?mt=8\" target=\"_blank\"><img alt=\"Ios down\" src=\"https://img.cgv.co.kr/images/popup/1606_iexp/btn_down_ios.jpg\"/></a>,\n",
       " <a class=\"btn\" href=\"https://play.google.com/store/apps/details?id=com.cgv.android.movieapp \" target=\"_blank\"><img alt=\"Android down\" src=\"https://img.cgv.co.kr/images/popup/1606_iexp/btn_down_android.jpg\"/></a>,\n",
       " <a class=\"btn_close\">닫기</a>,\n",
       " <a class=\"btn_fixedTicketing\" href=\"/ticket/\">예매하기</a>,\n",
       " <a class=\"btn_gotoTop\" href=\"#none\"><img alt=\"최상단으로 이동\" src=\"https://img.cgv.co.kr/R2014/images/common/btn/gotoTop.png\"/></a>]"
      ]
     },
     "execution_count": 24,
     "metadata": {},
     "output_type": "execute_result"
    }
   ],
   "source": [
    "mv = soup.select('div > a')\n",
    "mv"
   ]
  },
  {
   "cell_type": "code",
   "execution_count": 30,
   "id": "bb8cc140",
   "metadata": {},
   "outputs": [
    {
     "data": {
      "text/plain": [
       "'cgv.co.kr/movies/detail-view/?midx=86217'"
      ]
     },
     "execution_count": 30,
     "metadata": {},
     "output_type": "execute_result"
    }
   ],
   "source": [
    "'cgv.co.kr' + mv[2]['href']"
   ]
  },
  {
   "cell_type": "code",
   "execution_count": null,
   "id": "223a89b8",
   "metadata": {},
   "outputs": [],
   "source": []
  }
 ],
 "metadata": {
  "kernelspec": {
   "display_name": "Python 3 (ipykernel)",
   "language": "python",
   "name": "python3"
  },
  "language_info": {
   "codemirror_mode": {
    "name": "ipython",
    "version": 3
   },
   "file_extension": ".py",
   "mimetype": "text/x-python",
   "name": "python",
   "nbconvert_exporter": "python",
   "pygments_lexer": "ipython3",
   "version": "3.7.0"
  }
 },
 "nbformat": 4,
 "nbformat_minor": 5
}

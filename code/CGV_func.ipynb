{
 "cells": [
  {
   "cell_type": "code",
   "execution_count": 1,
   "id": "b3b1d0d8",
   "metadata": {},
   "outputs": [],
   "source": [
    "import pandas as pd\n",
    "import numpy as np\n",
    "from urllib import request\n",
    "from bs4 import BeautifulSoup"
   ]
  },
  {
   "cell_type": "code",
   "execution_count": 2,
   "id": "faf91238",
   "metadata": {},
   "outputs": [],
   "source": [
    "import selenium\n",
    "from selenium import webdriver\n",
    "from selenium.webdriver.common.by import By"
   ]
  },
  {
   "cell_type": "code",
   "execution_count": 3,
   "id": "1040e7ca",
   "metadata": {},
   "outputs": [],
   "source": [
    "import math"
   ]
  },
  {
   "cell_type": "code",
   "execution_count": 6,
   "id": "648f62f3",
   "metadata": {},
   "outputs": [],
   "source": [
    "df_dict_cgv = dict()\n",
    "def movie_review_df_cgv(url,name):\n",
    "    driver = webdriver.Chrome('chromedriver')\n",
    "    driver.get(url)\n",
    "    html = driver.page_source\n",
    "    soup = BeautifulSoup(html, 'html.parser')\n",
    "    \n",
    "    num = soup.select('#menu > div.col-detail > div.sect-grade > div.real-rating > p.desc > span > em')[0]\n",
    "    n = num.text\n",
    "    n = n.replace(',','')\n",
    "    n = int(n)\n",
    "    n = math.ceil(n / 60)\n",
    "    \n",
    "    comment_list=[]\n",
    "    \n",
    "    # 1~10 페이지까지 댓글 정보\n",
    "    for i in range(1,11):\n",
    "        if (i!=1):\n",
    "            btn =  driver.find_element(By.CSS_SELECTOR,f'#paging_point > li:nth-child({i}) > a')\n",
    "            btn.click()\n",
    "        html = driver.page_source\n",
    "        soup = BeautifulSoup(html, 'html.parser')\n",
    "        comment = soup.select_one('#movie_point_list_container')\n",
    "        cm = comment.select('.box-comment')\n",
    "        for j in range(0,len(cm)):\n",
    "            comment_list.append(cm[j].text)\n",
    "        btn =  driver.find_element(By.CSS_SELECTOR,f'#paging_point > li:nth-child({i}) > a')\n",
    "        btn.click()\n",
    "    btn =  driver.find_element(By.CSS_SELECTOR,f'#paging_point > li:nth-child({11}) > button')\n",
    "    btn.click()\n",
    "    \n",
    "    # 11페이지부터 댓글정보\n",
    "    for i in range(1,n):\n",
    "        for j in range(2,11):\n",
    "            html = driver.page_source\n",
    "            soup = BeautifulSoup(html, 'html.parser')\n",
    "            comment = soup.select_one('#movie_point_list_container')\n",
    "            cm = comment.select('.box-comment')\n",
    "            for k in range(0,len(cm)):\n",
    "                comment_list.append(cm[k].text)\n",
    "            try:\n",
    "                btn =  driver.find_element(By.CSS_SELECTOR,f'#paging_point > li:nth-child({j+2}) > a')\n",
    "                btn.click()\n",
    "            except:\n",
    "                break\n",
    "        try:        \n",
    "            btn =  driver.find_element(By.CSS_SELECTOR,f'#paging_point > li:nth-child({13}) > button')\n",
    "            btn.click()\n",
    "        except:\n",
    "            break\n",
    "            \n",
    "    df = pd.DataFrame([i for i in comment_list])\n",
    "    df_dict_cgv[name]=df\n",
    "    \n",
    "    return df_dict_cgv"
   ]
  },
  {
   "cell_type": "code",
   "execution_count": 7,
   "id": "cdffd94f",
   "metadata": {},
   "outputs": [
    {
     "data": {
      "text/plain": [
       "{'정직한후보2':                                            0\n",
       " 0                      넘 재미있어요!\\n오랜만에 웃었네요. \n",
       " 1                     완전 웃기네요. 재밌네요. 즐거웠어요. \n",
       " 2                          재미있었어요..간만에 웃었네요 \n",
       " 3                            1편과 같이  잼있네요 ~ \n",
       " 4                     1보다는 재미가 덜 했지만 볼만했어요~ \n",
       " ...                                      ...\n",
       " 3799                     아쉽습니다.  일편이 더 재밌어요 \n",
       " 3800                         유쾌상쾌통쾌 ㅋㅋ 재밌어요 \n",
       " 3801                            잼나게 봤습니다.^^ \n",
       " 3802                    가벼운 코미디 영화 그 이상도 아님 \n",
       " 3803   입만 필터없는줄 알았더니 영화도 필터가 없네 그냥 되는대로 만듦. \n",
       " \n",
       " [3804 rows x 1 columns]}"
      ]
     },
     "execution_count": 7,
     "metadata": {},
     "output_type": "execute_result"
    }
   ],
   "source": [
    "movie_review_df_cgv('http://www.cgv.co.kr/movies/detail-view/?midx=86191#569','정직한후보2')"
   ]
  },
  {
   "cell_type": "code",
   "execution_count": 8,
   "id": "5255f3d4",
   "metadata": {},
   "outputs": [
    {
     "data": {
      "text/html": [
       "<div>\n",
       "<style scoped>\n",
       "    .dataframe tbody tr th:only-of-type {\n",
       "        vertical-align: middle;\n",
       "    }\n",
       "\n",
       "    .dataframe tbody tr th {\n",
       "        vertical-align: top;\n",
       "    }\n",
       "\n",
       "    .dataframe thead th {\n",
       "        text-align: right;\n",
       "    }\n",
       "</style>\n",
       "<table border=\"1\" class=\"dataframe\">\n",
       "  <thead>\n",
       "    <tr style=\"text-align: right;\">\n",
       "      <th></th>\n",
       "      <th>0</th>\n",
       "    </tr>\n",
       "  </thead>\n",
       "  <tbody>\n",
       "    <tr>\n",
       "      <th>0</th>\n",
       "      <td>넘 재미있어요!\\n오랜만에 웃었네요.</td>\n",
       "    </tr>\n",
       "    <tr>\n",
       "      <th>1</th>\n",
       "      <td>완전 웃기네요. 재밌네요. 즐거웠어요.</td>\n",
       "    </tr>\n",
       "    <tr>\n",
       "      <th>2</th>\n",
       "      <td>재미있었어요..간만에 웃었네요</td>\n",
       "    </tr>\n",
       "    <tr>\n",
       "      <th>3</th>\n",
       "      <td>1편과 같이  잼있네요 ~</td>\n",
       "    </tr>\n",
       "    <tr>\n",
       "      <th>4</th>\n",
       "      <td>1보다는 재미가 덜 했지만 볼만했어요~</td>\n",
       "    </tr>\n",
       "    <tr>\n",
       "      <th>...</th>\n",
       "      <td>...</td>\n",
       "    </tr>\n",
       "    <tr>\n",
       "      <th>3799</th>\n",
       "      <td>아쉽습니다.  일편이 더 재밌어요</td>\n",
       "    </tr>\n",
       "    <tr>\n",
       "      <th>3800</th>\n",
       "      <td>유쾌상쾌통쾌 ㅋㅋ 재밌어요</td>\n",
       "    </tr>\n",
       "    <tr>\n",
       "      <th>3801</th>\n",
       "      <td>잼나게 봤습니다.^^</td>\n",
       "    </tr>\n",
       "    <tr>\n",
       "      <th>3802</th>\n",
       "      <td>가벼운 코미디 영화 그 이상도 아님</td>\n",
       "    </tr>\n",
       "    <tr>\n",
       "      <th>3803</th>\n",
       "      <td>입만 필터없는줄 알았더니 영화도 필터가 없네 그냥 되는대로 만듦.</td>\n",
       "    </tr>\n",
       "  </tbody>\n",
       "</table>\n",
       "<p>3804 rows × 1 columns</p>\n",
       "</div>"
      ],
      "text/plain": [
       "                                           0\n",
       "0                      넘 재미있어요!\\n오랜만에 웃었네요. \n",
       "1                     완전 웃기네요. 재밌네요. 즐거웠어요. \n",
       "2                          재미있었어요..간만에 웃었네요 \n",
       "3                            1편과 같이  잼있네요 ~ \n",
       "4                     1보다는 재미가 덜 했지만 볼만했어요~ \n",
       "...                                      ...\n",
       "3799                     아쉽습니다.  일편이 더 재밌어요 \n",
       "3800                         유쾌상쾌통쾌 ㅋㅋ 재밌어요 \n",
       "3801                            잼나게 봤습니다.^^ \n",
       "3802                    가벼운 코미디 영화 그 이상도 아님 \n",
       "3803   입만 필터없는줄 알았더니 영화도 필터가 없네 그냥 되는대로 만듦. \n",
       "\n",
       "[3804 rows x 1 columns]"
      ]
     },
     "execution_count": 8,
     "metadata": {},
     "output_type": "execute_result"
    }
   ],
   "source": [
    "df_dict_cgv['정직한후보2']"
   ]
  },
  {
   "cell_type": "code",
   "execution_count": null,
   "id": "c1a77522",
   "metadata": {},
   "outputs": [],
   "source": []
  }
 ],
 "metadata": {
  "kernelspec": {
   "display_name": "Python 3 (ipykernel)",
   "language": "python",
   "name": "python3"
  },
  "language_info": {
   "codemirror_mode": {
    "name": "ipython",
    "version": 3
   },
   "file_extension": ".py",
   "mimetype": "text/x-python",
   "name": "python",
   "nbconvert_exporter": "python",
   "pygments_lexer": "ipython3",
   "version": "3.7.0"
  }
 },
 "nbformat": 4,
 "nbformat_minor": 5
}
